{
 "cells": [
  {
   "cell_type": "markdown",
   "metadata": {},
   "source": [
    "## Introduction: Heart Disease Prediction Using MLPClassifier\n",
    "### Heart disease is a major health concern, and early detection can save lives. This project applies a Multi-layer Perceptron Classifier (MLPClassifier) to predict heart disease using patient data. Through hyperparameter tuning with GridSearchCV, we optimized the model for high accuracy and reliability. Evaluating F1-score, AUC, and precision-recall, we demonstrate the potential of neural networks in medical diagnosis."
   ]
  },
  {
   "cell_type": "markdown",
   "metadata": {},
   "source": [
    "### Import the data"
   ]
  },
  {
   "cell_type": "code",
   "execution_count": null,
   "metadata": {},
   "outputs": [],
   "source": []
  },
  {
   "cell_type": "code",
   "execution_count": 30,
   "metadata": {},
   "outputs": [
    {
     "name": "stdout",
     "output_type": "stream",
     "text": [
      "   age  sex  cp  trestbps  chol  fbs  restecg  thalach  exang  oldpeak  slope  \\\n",
      "0   52    1   0       125   212    0        1      168      0      1.0      2   \n",
      "1   53    1   0       140   203    1        0      155      1      3.1      0   \n",
      "2   70    1   0       145   174    0        1      125      1      2.6      0   \n",
      "3   61    1   0       148   203    0        1      161      0      0.0      2   \n",
      "4   62    0   0       138   294    1        1      106      0      1.9      1   \n",
      "\n",
      "   ca  thal  target  \n",
      "0   2     3       0  \n",
      "1   0     3       0  \n",
      "2   0     3       0  \n",
      "3   1     3       0  \n",
      "4   3     2       0  \n"
     ]
    }
   ],
   "source": [
    "import pandas as pd \n",
    "import os\n",
    "# Define the correct folder path\n",
    "base_path = \"Data/Heart\"\n",
    "\n",
    "# Construct the full path to the CSV file\n",
    "csv_file = os.path.join(base_path, \"heart.csv\")\n",
    "\n",
    "# Load the dataset\n",
    "data = pd.read_csv(csv_file)\n",
    "\n",
    "# Print the first few rows to confirm it's loading correctly\n",
    "print(data.head())"
   ]
  },
  {
   "cell_type": "markdown",
   "metadata": {},
   "source": [
    "### Start with exploratory analysis"
   ]
  },
  {
   "cell_type": "code",
   "execution_count": 31,
   "metadata": {},
   "outputs": [
    {
     "name": "stdout",
     "output_type": "stream",
     "text": [
      "target\n",
      "0    499\n",
      "1    526\n",
      "dtype: int64\n"
     ]
    },
    {
     "data": {
      "image/png": "[encoded data removed]",
      "text/plain": [
       "<Figure size 640x480 with 1 Axes>"
      ]
     },
     "metadata": {},
     "output_type": "display_data"
    }
   ],
   "source": [
    "print(data.groupby('target').size())\n",
    "\n",
    "#some imports to plot\n",
    "import matplotlib.pyplot as plt\n",
    "import seaborn as sns\n",
    "%matplotlib inline\n",
    "plt.style.use('ggplot')\n",
    "\n",
    "#Visualize Class Counts\n",
    "sns.countplot(y=data.target ,data=data)\n",
    "plt.xlabel(\"count of each class\")\n",
    "plt.ylabel(\"classes\")\n",
    "plt.show()"
   ]
  },
  {
   "cell_type": "code",
   "execution_count": 32,
   "metadata": {},
   "outputs": [
    {
     "name": "stdout",
     "output_type": "stream",
     "text": [
      "<class 'pandas.core.frame.DataFrame'>\n",
      "RangeIndex: 1025 entries, 0 to 1024\n",
      "Data columns (total 14 columns):\n",
      " #   Column    Non-Null Count  Dtype  \n",
      "---  ------    --------------  -----  \n",
      " 0   age       1025 non-null   int64  \n",
      " 1   sex       1025 non-null   int64  \n",
      " 2   cp        1025 non-null   int64  \n",
      " 3   trestbps  1025 non-null   int64  \n",
      " 4   chol      1025 non-null   int64  \n",
      " 5   fbs       1025 non-null   int64  \n",
      " 6   restecg   1025 non-null   int64  \n",
      " 7   thalach   1025 non-null   int64  \n",
      " 8   exang     1025 non-null   int64  \n",
      " 9   oldpeak   1025 non-null   float64\n",
      " 10  slope     1025 non-null   int64  \n",
      " 11  ca        1025 non-null   int64  \n",
      " 12  thal      1025 non-null   int64  \n",
      " 13  target    1025 non-null   int64  \n",
      "dtypes: float64(1), int64(13)\n",
      "memory usage: 112.2 KB\n"
     ]
    },
    {
     "data": {
      "text/plain": [
       "age         0\n",
       "sex         0\n",
       "cp          0\n",
       "trestbps    0\n",
       "chol        0\n",
       "fbs         0\n",
       "restecg     0\n",
       "thalach     0\n",
       "exang       0\n",
       "oldpeak     0\n",
       "slope       0\n",
       "ca          0\n",
       "thal        0\n",
       "target      0\n",
       "dtype: int64"
      ]
     },
     "execution_count": 32,
     "metadata": {},
     "output_type": "execute_result"
    }
   ],
   "source": [
    "data.info(verbose=True)\n",
    "data.isnull().sum()\n"
   ]
  },
  {
   "cell_type": "markdown",
   "metadata": {},
   "source": [
    "### Set your X and y so then you can divide the data into train and test"
   ]
  },
  {
   "cell_type": "code",
   "execution_count": 33,
   "metadata": {},
   "outputs": [],
   "source": [
    "X = data.drop(columns=\"target\")\n",
    "y = data[\"target\"].values\n",
    "column_names = list(X)"
   ]
  },
  {
   "cell_type": "code",
   "execution_count": 34,
   "metadata": {},
   "outputs": [],
   "source": [
    "from sklearn.model_selection import train_test_split\n",
    "\n",
    "X_train, X_test, y_train, y_test = train_test_split(X,y,test_size=0.3,train_size=0.7,random_state=43,stratify= y)"
   ]
  },
  {
   "cell_type": "markdown",
   "metadata": {},
   "source": [
    "### Create the model and apply it to your train set, and generate predictions with your test"
   ]
  },
  {
   "cell_type": "code",
   "execution_count": 35,
   "metadata": {},
   "outputs": [
    {
     "name": "stdout",
     "output_type": "stream",
     "text": [
      "Iteration 1, loss = 17.23202595\n",
      "Iteration 2, loss = 16.11765598\n",
      "Iteration 3, loss = 13.64127152\n",
      "Iteration 4, loss = 11.18774089\n",
      "Iteration 5, loss = 9.57945483\n",
      "Iteration 6, loss = 8.42251354\n",
      "Iteration 7, loss = 7.37458751\n",
      "Iteration 8, loss = 6.39459280\n",
      "Iteration 9, loss = 5.45492029\n",
      "Iteration 10, loss = 4.54631460\n",
      "Iteration 11, loss = 3.63206600\n",
      "Iteration 12, loss = 2.74377204\n",
      "Iteration 13, loss = 1.89988300\n",
      "Iteration 14, loss = 1.17315805\n",
      "Iteration 15, loss = 0.92407412\n",
      "Iteration 16, loss = 1.02021928\n",
      "Iteration 17, loss = 1.11901961\n",
      "Iteration 18, loss = 1.07335921\n",
      "Iteration 19, loss = 0.96388317\n",
      "Iteration 20, loss = 0.90693522\n",
      "Iteration 21, loss = 0.90298300\n",
      "Iteration 22, loss = 0.91588848\n",
      "Iteration 23, loss = 0.91134082\n",
      "Iteration 24, loss = 0.89593520\n",
      "Iteration 25, loss = 0.88731826\n",
      "Iteration 26, loss = 0.88825863\n",
      "Iteration 27, loss = 0.88851836\n",
      "Iteration 28, loss = 0.88542685\n",
      "Iteration 29, loss = 0.88158442\n",
      "Iteration 30, loss = 0.88011937\n",
      "Iteration 31, loss = 0.87844152\n",
      "Training loss did not improve more than tol=0.010000 for 10 consecutive epochs. Stopping.\n"
     ]
    },
    {
     "data": {
      "text/plain": [
       "array([0, 1, 0, 1, 1, 1, 1, 0, 1, 1, 1, 0, 1, 0, 0, 0, 1, 0, 0, 0, 0, 1,\n",
       "       0, 1, 0, 1, 1, 0, 1, 0, 0, 0, 0, 1, 0, 1, 0, 1, 0, 1, 0, 0, 0, 0,\n",
       "       0, 1, 0, 1, 1, 1, 1, 0, 1, 1, 1, 1, 0, 1, 0, 1, 0, 0, 1, 1, 1, 1,\n",
       "       1, 0, 1, 0, 1, 0, 0, 1, 0, 1, 0, 1, 1, 0, 0, 0, 1, 0, 1, 1, 0, 0,\n",
       "       1, 0, 0, 0, 1, 1, 0, 1, 0, 1, 1, 0, 1, 0, 1, 1, 1, 0, 1, 1, 0, 0,\n",
       "       1, 0, 0, 1, 1, 1, 0, 0, 1, 0, 0, 0, 0, 1, 1, 0, 1, 0, 1, 0, 0, 0,\n",
       "       0, 0, 0, 1, 1, 1, 1, 1, 0, 0, 0, 1, 1, 1, 0, 0, 1, 1, 0, 0, 1, 0,\n",
       "       0, 0, 0, 1, 1, 1, 0, 0, 1, 0, 0, 0, 0, 0, 1, 1, 0, 1, 0, 1, 1, 0,\n",
       "       0, 0, 1, 0, 0, 0, 0, 0, 0, 1, 1, 0, 1, 0, 0, 0, 1, 1, 0, 1, 1, 1,\n",
       "       0, 0, 0, 1, 1, 1, 1, 1, 1, 1, 1, 0, 0, 0, 1, 1, 1, 0, 0, 0, 0, 1,\n",
       "       0, 1, 0, 0, 0, 0, 0, 0, 0, 0, 0, 1, 1, 0, 0, 1, 0, 1, 0, 0, 0, 0,\n",
       "       0, 1, 1, 1, 0, 1, 0, 0, 1, 0, 1, 0, 1, 0, 0, 1, 1, 0, 0, 0, 1, 1,\n",
       "       1, 1, 1, 1, 0, 0, 0, 1, 0, 0, 1, 1, 1, 0, 1, 0, 1, 0, 1, 1, 0, 0,\n",
       "       1, 1, 0, 1, 1, 0, 1, 1, 1, 1, 1, 0, 1, 1, 1, 0, 0, 1, 1, 1, 0, 0])"
      ]
     },
     "execution_count": 35,
     "metadata": {},
     "output_type": "execute_result"
    }
   ],
   "source": [
    "from sklearn.neural_network import MLPClassifier\n",
    "\n",
    "model = MLPClassifier(hidden_layer_sizes=(7,7,7), activation=\"relu\",alpha=0.001,batch_size=\"auto\",learning_rate=\"constant\",max_iter=200,solver=\"adam\",tol=0.01,verbose=True)\n",
    "\n",
    "model.fit(X_train, y_train)\n",
    "model.predict(X_test)"
   ]
  },
  {
   "cell_type": "markdown",
   "metadata": {},
   "source": [
    "### Use grid search to find the best parameters"
   ]
  },
  {
   "cell_type": "code",
   "execution_count": 36,
   "metadata": {},
   "outputs": [],
   "source": [
    "classifier = MLPClassifier()\n",
    "parameters = {\"hidden_layer_sizes\":[(6,6,6),(8,6,4),(8,8)],\"max_iter\":[50000], \"alpha\":[0.01,0.001,1,10]}"
   ]
  },
  {
   "cell_type": "code",
   "execution_count": 37,
   "metadata": {},
   "outputs": [],
   "source": [
    "from sklearn.model_selection import GridSearchCV\n",
    "gs = GridSearchCV(classifier, parameters, cv=3, scoring = 'f1', verbose=50, n_jobs=-1, refit=True)"
   ]
  },
  {
   "cell_type": "code",
   "execution_count": 38,
   "metadata": {},
   "outputs": [
    {
     "name": "stdout",
     "output_type": "stream",
     "text": [
      "Fitting 3 folds for each of 12 candidates, totalling 36 fits\n",
      "[CV 1/3; 2/12] START alpha=0.01, hidden_layer_sizes=(8, 6, 4), max_iter=50000...\n",
      "[CV 3/3; 2/12] START alpha=0.01, hidden_layer_sizes=(8, 6, 4), max_iter=50000...\n",
      "[CV 1/3; 3/12] START alpha=0.01, hidden_layer_sizes=(8, 8), max_iter=50000......\n",
      "[CV 3/3; 1/12] START alpha=0.01, hidden_layer_sizes=(6, 6, 6), max_iter=50000...\n",
      "[CV 1/3; 1/12] START alpha=0.01, hidden_layer_sizes=(6, 6, 6), max_iter=50000...\n",
      "[CV 2/3; 3/12] START alpha=0.01, hidden_layer_sizes=(8, 8), max_iter=50000......\n",
      "[CV 2/3; 1/12] START alpha=0.01, hidden_layer_sizes=(6, 6, 6), max_iter=50000...\n",
      "[CV 2/3; 2/12] START alpha=0.01, hidden_layer_sizes=(8, 6, 4), max_iter=50000...\n",
      "[CV 1/3; 3/12] END alpha=0.01, hidden_layer_sizes=(8, 8), max_iter=50000;, score=0.765 total time=   0.9s\n",
      "[CV 2/3; 3/12] END alpha=0.01, hidden_layer_sizes=(8, 8), max_iter=50000;, score=0.830 total time=   1.0s\n",
      "[CV 3/3; 3/12] START alpha=0.01, hidden_layer_sizes=(8, 8), max_iter=50000......\n",
      "[CV 1/3; 4/12] START alpha=0.001, hidden_layer_sizes=(6, 6, 6), max_iter=50000..\n",
      "[CV 2/3; 2/12] END alpha=0.01, hidden_layer_sizes=(8, 6, 4), max_iter=50000;, score=0.837 total time=   1.7s\n",
      "[CV 3/3; 1/12] END alpha=0.01, hidden_layer_sizes=(6, 6, 6), max_iter=50000;, score=0.826 total time=   1.8s\n",
      "[CV 2/3; 4/12] START alpha=0.001, hidden_layer_sizes=(6, 6, 6), max_iter=50000..\n",
      "[CV 3/3; 2/12] END alpha=0.01, hidden_layer_sizes=(8, 6, 4), max_iter=50000;, score=0.794 total time=   1.9s\n",
      "[CV 3/3; 4/12] START alpha=0.001, hidden_layer_sizes=(6, 6, 6), max_iter=50000..\n",
      "[CV 3/3; 3/12] END alpha=0.01, hidden_layer_sizes=(8, 8), max_iter=50000;, score=0.783 total time=   0.9s\n",
      "[CV 1/3; 5/12] START alpha=0.001, hidden_layer_sizes=(8, 6, 4), max_iter=50000..\n",
      "[CV 2/3; 5/12] START alpha=0.001, hidden_layer_sizes=(8, 6, 4), max_iter=50000..\n",
      "[CV 1/3; 1/12] END alpha=0.01, hidden_layer_sizes=(6, 6, 6), max_iter=50000;, score=0.848 total time=   2.2s\n",
      "[CV 3/3; 5/12] START alpha=0.001, hidden_layer_sizes=(8, 6, 4), max_iter=50000..\n",
      "[CV 1/3; 4/12] END alpha=0.001, hidden_layer_sizes=(6, 6, 6), max_iter=50000;, score=0.838 total time=   1.5s\n",
      "[CV 1/3; 6/12] START alpha=0.001, hidden_layer_sizes=(8, 8), max_iter=50000.....\n",
      "[CV 2/3; 4/12] END alpha=0.001, hidden_layer_sizes=(6, 6, 6), max_iter=50000;, score=0.664 total time=   1.1s\n",
      "[CV 2/3; 6/12] START alpha=0.001, hidden_layer_sizes=(8, 8), max_iter=50000.....[CV 1/3; 5/12] END alpha=0.001, hidden_layer_sizes=(8, 6, 4), max_iter=50000;, score=0.816 total time=   1.0s\n",
      "\n",
      "[CV 3/3; 6/12] START alpha=0.001, hidden_layer_sizes=(8, 8), max_iter=50000.....\n",
      "[CV 3/3; 4/12] END alpha=0.001, hidden_layer_sizes=(6, 6, 6), max_iter=50000;, score=0.820 total time=   1.0s\n",
      "[CV 1/3; 7/12] START alpha=1, hidden_layer_sizes=(6, 6, 6), max_iter=50000......\n",
      "[CV 1/3; 2/12] END alpha=0.01, hidden_layer_sizes=(8, 6, 4), max_iter=50000;, score=0.824 total time=   3.3s\n",
      "[CV 2/3; 6/12] END alpha=0.001, hidden_layer_sizes=(8, 8), max_iter=50000;, score=0.824 total time=   0.4s\n",
      "[CV 2/3; 7/12] START alpha=1, hidden_layer_sizes=(6, 6, 6), max_iter=50000......\n",
      "[CV 3/3; 5/12] END alpha=0.001, hidden_layer_sizes=(8, 6, 4), max_iter=50000;, score=0.805 total time=   0.9s\n",
      "[CV 3/3; 7/12] START alpha=1, hidden_layer_sizes=(6, 6, 6), max_iter=50000......\n",
      "[CV 1/3; 8/12] START alpha=1, hidden_layer_sizes=(8, 6, 4), max_iter=50000......\n",
      "[CV 2/3; 1/12] END alpha=0.01, hidden_layer_sizes=(6, 6, 6), max_iter=50000;, score=0.837 total time=   3.8s\n",
      "[CV 1/3; 6/12] END alpha=0.001, hidden_layer_sizes=(8, 8), max_iter=50000;, score=0.842 total time=   1.0s\n",
      "[CV 2/3; 8/12] START alpha=1, hidden_layer_sizes=(8, 6, 4), max_iter=50000......\n",
      "[CV 3/3; 8/12] START alpha=1, hidden_layer_sizes=(8, 6, 4), max_iter=50000......\n",
      "[CV 1/3; 7/12] END alpha=1, hidden_layer_sizes=(6, 6, 6), max_iter=50000;, score=0.848 total time=   1.0s\n",
      "[CV 1/3; 9/12] START alpha=1, hidden_layer_sizes=(8, 8), max_iter=50000.........\n",
      "[CV 3/3; 7/12] END alpha=1, hidden_layer_sizes=(6, 6, 6), max_iter=50000;, score=0.798 total time=   0.8s\n",
      "[CV 2/3; 9/12] START alpha=1, hidden_layer_sizes=(8, 8), max_iter=50000.........\n",
      "[CV 3/3; 6/12] END alpha=0.001, hidden_layer_sizes=(8, 8), max_iter=50000;, score=0.789 total time=   1.5s\n",
      "[CV 3/3; 9/12] START alpha=1, hidden_layer_sizes=(8, 8), max_iter=50000.........\n",
      "[CV 2/3; 5/12] END alpha=0.001, hidden_layer_sizes=(8, 6, 4), max_iter=50000;, score=0.852 total time=   2.6s\n",
      "[CV 1/3; 8/12] END alpha=1, hidden_layer_sizes=(8, 6, 4), max_iter=50000;, score=0.846 total time=   1.2s\n",
      "[CV 1/3; 10/12] START alpha=10, hidden_layer_sizes=(6, 6, 6), max_iter=50000....\n",
      "[CV 2/3; 10/12] START alpha=10, hidden_layer_sizes=(6, 6, 6), max_iter=50000....\n",
      "[CV 1/3; 9/12] END alpha=1, hidden_layer_sizes=(8, 8), max_iter=50000;, score=0.831 total time=   0.8s\n",
      "[CV 3/3; 10/12] START alpha=10, hidden_layer_sizes=(6, 6, 6), max_iter=50000....\n",
      "[CV 3/3; 9/12] END alpha=1, hidden_layer_sizes=(8, 8), max_iter=50000;, score=0.754 total time=   0.6s\n",
      "[CV 1/3; 11/12] START alpha=10, hidden_layer_sizes=(8, 6, 4), max_iter=50000....\n",
      "[CV 2/3; 9/12] END alpha=1, hidden_layer_sizes=(8, 8), max_iter=50000;, score=0.812 total time=   0.9s\n",
      "[CV 2/3; 11/12] START alpha=10, hidden_layer_sizes=(8, 6, 4), max_iter=50000....\n",
      "[CV 3/3; 8/12] END alpha=1, hidden_layer_sizes=(8, 6, 4), max_iter=50000;, score=0.790 total time=   1.4s\n",
      "[CV 3/3; 11/12] START alpha=10, hidden_layer_sizes=(8, 6, 4), max_iter=50000....\n",
      "[CV 2/3; 7/12] END alpha=1, hidden_layer_sizes=(6, 6, 6), max_iter=50000;, score=0.675 total time=   2.1s\n",
      "[CV 1/3; 12/12] START alpha=10, hidden_layer_sizes=(8, 8), max_iter=50000.......\n",
      "[CV 1/3; 10/12] END alpha=10, hidden_layer_sizes=(6, 6, 6), max_iter=50000;, score=0.736 total time=   1.2s\n",
      "[CV 2/3; 12/12] START alpha=10, hidden_layer_sizes=(8, 8), max_iter=50000.......\n",
      "[CV 3/3; 10/12] END alpha=10, hidden_layer_sizes=(6, 6, 6), max_iter=50000;, score=0.701 total time=   1.0s\n",
      "[CV 3/3; 12/12] START alpha=10, hidden_layer_sizes=(8, 8), max_iter=50000.......\n",
      "[CV 2/3; 8/12] END alpha=1, hidden_layer_sizes=(8, 6, 4), max_iter=50000;, score=0.844 total time=   2.1s\n",
      "[CV 2/3; 11/12] END alpha=10, hidden_layer_sizes=(8, 6, 4), max_iter=50000;, score=0.661 total time=   1.4s\n",
      "[CV 1/3; 12/12] END alpha=10, hidden_layer_sizes=(8, 8), max_iter=50000;, score=0.844 total time=   1.0s\n",
      "[CV 2/3; 10/12] END alpha=10, hidden_layer_sizes=(6, 6, 6), max_iter=50000;, score=0.720 total time=   1.9s\n",
      "[CV 3/3; 12/12] END alpha=10, hidden_layer_sizes=(8, 8), max_iter=50000;, score=0.774 total time=   0.7s\n",
      "[CV 2/3; 12/12] END alpha=10, hidden_layer_sizes=(8, 8), max_iter=50000;, score=0.669 total time=   0.9s\n",
      "[CV 1/3; 11/12] END alpha=10, hidden_layer_sizes=(8, 6, 4), max_iter=50000;, score=0.769 total time=   1.9s\n",
      "[CV 3/3; 11/12] END alpha=10, hidden_layer_sizes=(8, 6, 4), max_iter=50000;, score=0.698 total time=   1.6s\n"
     ]
    }
   ],
   "source": [
    "gs = gs.fit(X_train, y_train)"
   ]
  },
  {
   "cell_type": "code",
   "execution_count": 39,
   "metadata": {},
   "outputs": [
    {
     "name": "stdout",
     "output_type": "stream",
     "text": [
      "***GRIDSEARCH RESULTS***\n",
      "Best score: 0.837093 using {'alpha': 0.01, 'hidden_layer_sizes': (6, 6, 6), 'max_iter': 50000}\n",
      "0.837093 (0.009278) with: {'alpha': 0.01, 'hidden_layer_sizes': (6, 6, 6), 'max_iter': 50000}\n",
      "0.817935 (0.017886) with: {'alpha': 0.01, 'hidden_layer_sizes': (8, 6, 4), 'max_iter': 50000}\n",
      "0.792798 (0.027050) with: {'alpha': 0.01, 'hidden_layer_sizes': (8, 8), 'max_iter': 50000}\n",
      "0.774055 (0.078176) with: {'alpha': 0.001, 'hidden_layer_sizes': (6, 6, 6), 'max_iter': 50000}\n",
      "0.824340 (0.019813) with: {'alpha': 0.001, 'hidden_layer_sizes': (8, 6, 4), 'max_iter': 50000}\n",
      "0.818230 (0.022101) with: {'alpha': 0.001, 'hidden_layer_sizes': (8, 8), 'max_iter': 50000}\n",
      "0.773545 (0.072727) with: {'alpha': 1, 'hidden_layer_sizes': (6, 6, 6), 'max_iter': 50000}\n",
      "0.826838 (0.026117) with: {'alpha': 1, 'hidden_layer_sizes': (8, 6, 4), 'max_iter': 50000}\n",
      "0.799218 (0.032567) with: {'alpha': 1, 'hidden_layer_sizes': (8, 8), 'max_iter': 50000}\n",
      "0.719165 (0.014562) with: {'alpha': 10, 'hidden_layer_sizes': (6, 6, 6), 'max_iter': 50000}\n",
      "0.709270 (0.044517) with: {'alpha': 10, 'hidden_layer_sizes': (8, 6, 4), 'max_iter': 50000}\n",
      "0.762464 (0.071774) with: {'alpha': 10, 'hidden_layer_sizes': (8, 8), 'max_iter': 50000}\n"
     ]
    }
   ],
   "source": [
    "print('***GRIDSEARCH RESULTS***')\n",
    "\n",
    "print(\"Best score: %f using %s\" % (gs.best_score_, gs.best_params_))\n",
    "means = gs.cv_results_['mean_test_score']\n",
    "stds = gs.cv_results_['std_test_score']\n",
    "params = gs.cv_results_['params']\n",
    "\n",
    "for mean, stdev, param in zip(means, stds, params):\n",
    "    print(\"%f (%f) with: %r\" % (mean, stdev, param))"
   ]
  },
  {
   "cell_type": "markdown",
   "metadata": {},
   "source": [
    "### Test the model on your test set"
   ]
  },
  {
   "cell_type": "code",
   "execution_count": 40,
   "metadata": {},
   "outputs": [
    {
     "data": {
      "text/plain": [
       "array([0, 0, 1, 0, 1, 1, 0, 1, 0, 1, 0, 1, 1, 1, 0, 1, 1, 1, 1, 1, 0, 0,\n",
       "       0, 1, 0, 1, 1, 1, 1, 0, 1, 1, 0, 0, 1, 0, 1, 1, 1, 0, 1, 1, 1, 1,\n",
       "       1, 1, 1, 0, 1, 0, 1, 1, 0, 0, 0, 1, 1, 1, 1, 1, 1, 0, 1, 1, 0, 1,\n",
       "       1, 1, 1, 1, 1, 0, 1, 1, 0, 1, 0, 0, 0, 1, 1, 1, 1, 1, 1, 0, 1, 1,\n",
       "       0, 0, 0, 1, 1, 0, 1, 0, 1, 0, 0, 0, 1, 1, 0, 0, 1, 1, 1, 1, 1, 0,\n",
       "       1, 1, 0, 0, 0, 1, 1, 1, 1, 1, 1, 1, 1, 0, 0, 1, 0, 0, 0, 0, 0, 1,\n",
       "       1, 1, 1, 1, 0, 1, 0, 1, 1, 1, 1, 1, 0, 1, 1, 1, 0, 0, 1, 1, 0, 1,\n",
       "       1, 1, 0, 0, 0, 0, 1, 1, 1, 1, 1, 1, 1, 1, 0, 1, 0, 0, 0, 0, 0, 1,\n",
       "       1, 0, 1, 0, 0, 1, 0, 1, 1, 1, 1, 1, 1, 1, 1, 1, 0, 1, 1, 0, 1, 0,\n",
       "       1, 1, 1, 0, 0, 1, 0, 0, 0, 1, 0, 1, 1, 0, 1, 1, 1, 1, 1, 1, 1, 0,\n",
       "       0, 0, 1, 0, 1, 1, 1, 1, 0, 0, 1, 1, 0, 0, 1, 0, 1, 1, 1, 1, 1, 0,\n",
       "       1, 0, 0, 1, 1, 1, 1, 1, 0, 1, 0, 1, 0, 1, 1, 0, 1, 1, 0, 0, 1, 0,\n",
       "       1, 0, 0, 0, 1, 0, 1, 1, 0, 1, 0, 1, 1, 0, 0, 0, 1, 1, 1, 1, 1, 1,\n",
       "       1, 1, 0, 0, 1, 1, 0, 1, 1, 0, 1, 1, 1, 1, 0, 1, 1, 1, 1, 1, 1, 1])"
      ]
     },
     "execution_count": 40,
     "metadata": {},
     "output_type": "execute_result"
    }
   ],
   "source": [
    "best_model = gs.best_estimator_\n",
    "y_pred = best_model.predict(X_test)\n",
    "\n",
    "y_pred_train = best_model.predict(X_train)\n",
    "y_pred"
   ]
  },
  {
   "cell_type": "markdown",
   "metadata": {},
   "source": [
    "### Evaluation"
   ]
  },
  {
   "cell_type": "code",
   "execution_count": 41,
   "metadata": {},
   "outputs": [
    {
     "name": "stdout",
     "output_type": "stream",
     "text": [
      "***RESULTS ON TRAIN SET***\n",
      "f1_score:  0.8611111111111112\n",
      "--\n",
      "***RESULTS ON TEST SET***\n",
      "f1_score:  0.8555240793201133\n"
     ]
    }
   ],
   "source": [
    "\n",
    "from sklearn import metrics\n",
    "\n",
    "print('***RESULTS ON TRAIN SET***')\n",
    "print(\"f1_score: \", metrics.f1_score(y_train, y_pred_train))\n",
    "print(\"--\")\n",
    "print('***RESULTS ON TEST SET***')\n",
    "print(\"f1_score: \", metrics.f1_score(y_test, y_pred))"
   ]
  },
  {
   "cell_type": "markdown",
   "metadata": {},
   "source": [
    "### Additional interesting metrics "
   ]
  },
  {
   "cell_type": "code",
   "execution_count": 42,
   "metadata": {},
   "outputs": [
    {
     "name": "stdout",
     "output_type": "stream",
     "text": [
      "              precision    recall  f1-score   support\n",
      "\n",
      "           0       0.94      0.71      0.81       150\n",
      "           1       0.77      0.96      0.86       158\n",
      "\n",
      "    accuracy                           0.83       308\n",
      "   macro avg       0.86      0.83      0.83       308\n",
      "weighted avg       0.85      0.83      0.83       308\n",
      "\n",
      "[[106  44]\n",
      " [  7 151]]\n"
     ]
    },
    {
     "data": {
      "image/png": "[encoded data removed]",
      "text/plain": [
       "<Figure size 640x480 with 2 Axes>"
      ]
     },
     "metadata": {},
     "output_type": "display_data"
    }
   ],
   "source": [
    "from sklearn.metrics import classification_report\n",
    "print(classification_report(y_test, y_pred))\n",
    "\n",
    "from sklearn.metrics import confusion_matrix\n",
    "print(confusion_matrix(y_test, y_pred))\n",
    "\n",
    "sns.heatmap(confusion_matrix(y_test, y_pred), annot=True, fmt='d', cmap=\"Blues\"); "
   ]
  },
  {
   "cell_type": "code",
   "execution_count": 44,
   "metadata": {},
   "outputs": [
    {
     "data": {
      "image/png": "[encoded data removed]",
      "text/plain": [
       "<Figure size 640x480 with 1 Axes>"
      ]
     },
     "metadata": {},
     "output_type": "display_data"
    },
    {
     "name": "stdout",
     "output_type": "stream",
     "text": [
      "AUC: 0.94\n"
     ]
    }
   ],
   "source": [
    "from sklearn import metrics\n",
    "\n",
    "model=MLPClassifier(hidden_layer_sizes=(6,6,6), alpha=0.1, max_iter=50000)\n",
    "model.fit(X_train, y_train)\n",
    "\n",
    "y_pred = model.predict(X_test)\n",
    "y_pred_train = model.predict(X_train)\n",
    "\n",
    "y_probs = model.predict_proba(X_test) \n",
    "\n",
    "fpr, tpr, thresholds=metrics.roc_curve(y_test,  y_probs[:,1])\n",
    "\n",
    "import matplotlib.pyplot as plt\n",
    "plt.plot(fpr, tpr, label='ROC')\n",
    "plt.plot([0, 1], [0, 1], color='darkblue', linestyle='--')\n",
    "plt.xlabel('False Positive Rate')\n",
    "plt.ylabel('True Positive Rate')\n",
    "plt.title('Receiver Operating Characteristic (ROC) Curve')\n",
    "plt.legend()\n",
    "plt.show()\n",
    "\n",
    "auc = metrics.roc_auc_score(y_test, y_probs[:,1])\n",
    "print('AUC: %.2f' % auc)"
   ]
  },
  {
   "cell_type": "markdown",
   "metadata": {},
   "source": [
    "### The MLPClassifier successfully predicted heart disease with strong performance (AUC = 0.94, F1 = 0.855), showing its effectiveness for medical diagnosis tasks. With further tuning and feature refinement, this model could be a valuable tool for risk prediction in healthcare."
   ]
  }
 ],
 "metadata": {
  "kernelspec": {
   "display_name": "Python 3",
   "language": "python",
   "name": "python3"
  },
  "language_info": {
   "codemirror_mode": {
    "name": "ipython",
    "version": 3
   },
   "file_extension": ".py",
   "mimetype": "text/x-python",
   "name": "python",
   "nbconvert_exporter": "python",
   "pygments_lexer": "ipython3",
   "version": "3.13.0"
  }
 },
 "nbformat": 4,
 "nbformat_minor": 2
}
